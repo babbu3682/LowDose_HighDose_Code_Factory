{
 "cells": [
  {
   "cell_type": "code",
   "execution_count": 1,
   "metadata": {},
   "outputs": [],
   "source": [
    "import os\n",
    "\n",
    "os.environ[\"CUDA_DEVICE_ORDER\"]=\"PCI_BUS_ID\"\n",
    "os.environ[\"CUDA_VISIBLE_DEVICES\"]=\"3\""
   ]
  },
  {
   "cell_type": "code",
   "execution_count": 2,
   "metadata": {},
   "outputs": [
    {
     "name": "stdout",
     "output_type": "stream",
     "text": [
      "/workspace/Abdomen_CT/scripts_study/LowDose_HighDose_Code_Factory/scripts study\n"
     ]
    }
   ],
   "source": [
    "!pwd"
   ]
  },
  {
   "cell_type": "code",
   "execution_count": null,
   "metadata": {},
   "outputs": [],
   "source": [
    "!python test.py \\\n",
    "--data-set 'TEST_Mayo_DCM' \\\n",
    "--model-name 'TED_Net' \\\n",
    "--save_dir '/workspace/Abdomen_CT/scripts_study/Predictions/Test/png/[Previous]TED_Net/'\\\n",
    "--resume '/workspace/Abdomen_CT/scripts_study/model/[Previous]TED_Net/epoch_3990_checkpoint.pth'"
   ]
  },
  {
   "cell_type": "code",
   "execution_count": 36,
   "metadata": {},
   "outputs": [
    {
     "name": "stdout",
     "output_type": "stream",
     "text": [
      "***********************************************\n",
      "Dataset Name:  TEST_Mayo_DCM\n",
      "---------- Model ----------\n",
      "Test Epoch:  590\n",
      "Resume From:  /workspace/Abdomen_CT/scripts_study/model/[Previous]Restormer/epoch_590_checkpoint.pth\n",
      "Output To:  /workspace/Abdomen_CT/scripts_study/Predictions/Test/png/[Previous]Restormer/\n",
      "Loading dataset ....\n",
      "TEST [Total]  number =  211\n",
      "Creating model: Restormer\n",
      "Number of Learnable Params: 26109076\n",
      "TEST: 100%|███████████████████████████████████| 211/211 [01:13<00:00,  2.86it/s]\n",
      "\n",
      "\n",
      "Original === \n",
      "PSNR avg: 47.1224 \n",
      "SSIM avg: 0.9804 \n",
      "RMSE avg: 18.4390\n",
      "\n",
      "\n",
      "Predictions === \n",
      "PSNR avg: 51.4690 \n",
      "SSIM avg: 0.9926 \n",
      "RMSE avg: 11.1001\n",
      "Traceback (most recent call last):\n",
      "  File \"test.py\", line 146, in <module>\n",
      "    main(args)\n",
      "  File \"test.py\", line 106, in main\n",
      "    test_CNN_Based_Previous(model, data_loader, device, args.save_dir)\n",
      "  File \"/home/wjj910/.local/lib/python3.8/site-packages/torch/autograd/grad_mode.py\", line 28, in decorate_context\n",
      "    return func(*args, **kwargs)\n",
      "  File \"/workspace/Abdomen_CT/scripts_study/LowDose_HighDose_Code_Factory/scripts study/engine.py\", line 798, in test_CNN_Based_Previous\n",
      "    with pathlib.Path(os.path.join(save_dir, \"/log.txt\")).open(\"a\") as f:\n",
      "  File \"/usr/lib/python3.8/pathlib.py\", line 1222, in open\n",
      "    return io.open(self, mode, buffering, encoding, errors, newline,\n",
      "  File \"/usr/lib/python3.8/pathlib.py\", line 1078, in _opener\n",
      "    return self._accessor.open(self, flags, mode)\n",
      "PermissionError: [Errno 13] Permission denied: '/log.txt'\n"
     ]
    }
   ],
   "source": [
    "!python test.py \\\n",
    "--data-set 'TEST_Mayo_DCM' \\\n",
    "--model-name 'Restormer' \\\n",
    "--save_dir '/workspace/Abdomen_CT/scripts_study/Predictions/Test/png/[Previous]Restormer/'\\\n",
    "--resume '/workspace/Abdomen_CT/scripts_study/model/[Previous]Restormer/epoch_590_checkpoint.pth'"
   ]
  },
  {
   "cell_type": "code",
   "execution_count": 35,
   "metadata": {},
   "outputs": [
    {
     "name": "stdout",
     "output_type": "stream",
     "text": [
      "***********************************************\n",
      "Dataset Name:  TEST_Mayo_DCM\n",
      "---------- Model ----------\n",
      "Test Epoch:  399\n",
      "Resume From:  /workspace/Abdomen_CT/scripts_study/model/[Previous]RED_CNN/epoch_399_checkpoint.pth\n",
      "Output To:  /workspace/Abdomen_CT/scripts_study/Predictions/Test/png/[Previous]RED_CNN/\n",
      "Loading dataset ....\n",
      "TEST [Total]  number =  211\n",
      "Creating model: RED_CNN\n",
      "Number of Learnable Params: 1848865\n",
      "TEST: 100%|███████████████████████████████████| 211/211 [00:27<00:00,  7.58it/s]\n",
      "\n",
      "\n",
      "Original === \n",
      "PSNR avg: 47.1224 \n",
      "SSIM avg: 0.9804 \n",
      "RMSE avg: 18.4390\n",
      "\n",
      "\n",
      "Predictions === \n",
      "PSNR avg: 50.2232 \n",
      "SSIM avg: 0.9907 \n",
      "RMSE avg: 12.7861\n",
      "Traceback (most recent call last):\n",
      "  File \"test.py\", line 146, in <module>\n",
      "    main(args)\n",
      "  File \"test.py\", line 106, in main\n",
      "    test_CNN_Based_Previous(model, data_loader, device, args.save_dir)\n",
      "  File \"/home/wjj910/.local/lib/python3.8/site-packages/torch/autograd/grad_mode.py\", line 28, in decorate_context\n",
      "    return func(*args, **kwargs)\n",
      "  File \"/workspace/Abdomen_CT/scripts_study/LowDose_HighDose_Code_Factory/scripts study/engine.py\", line 798, in test_CNN_Based_Previous\n",
      "    with (os.path.join(save_dir, \"/log.txt\")).open(\"a\") as f:\n",
      "AttributeError: 'str' object has no attribute 'open'\n"
     ]
    }
   ],
   "source": [
    "!python test.py \\\n",
    "--data-set 'TEST_Mayo_DCM' \\\n",
    "--model-name 'RED_CNN' \\\n",
    "--save_dir '/workspace/Abdomen_CT/scripts_study/Predictions/Test/png/[Previous]RED_CNN/'\\\n",
    "--resume '/workspace/Abdomen_CT/scripts_study/model/[Previous]RED_CNN/epoch_399_checkpoint.pth'"
   ]
  },
  {
   "cell_type": "code",
   "execution_count": 4,
   "metadata": {},
   "outputs": [
    {
     "name": "stdout",
     "output_type": "stream",
     "text": [
      "***********************************************\n",
      "Dataset Name:  TEST_Mayo_DCM\n",
      "---------- Model ----------\n",
      "Test Epoch:  599\n",
      "Resume From:  /workspace/Abdomen_CT/scripts_study/model/[Previous]ED_CNN/epoch_599_checkpoint.pth\n",
      "Output To:  /workspace/Abdomen_CT/scripts_study/Predictions/Test/png/[Previous]ED_CNN/\n",
      "Loading dataset ....\n",
      "TEST [Total]  number =  211\n",
      "Creating model: ED_CNN\n",
      "Number of Learnable Params: 80961\n",
      "TEST: 100%|███████████████████████████████████| 211/211 [00:24<00:00,  8.57it/s]\n",
      "\n",
      "\n",
      "Original === \n",
      "PSNR avg: 47.1224 \n",
      "SSIM avg: 0.9804 \n",
      "RMSE avg: 18.4390\n",
      "\n",
      "\n",
      "Predictions === \n",
      "PSNR avg: 50.8205 \n",
      "SSIM avg: 0.9915 \n",
      "RMSE avg: 11.9667\n",
      "***********************************************\n",
      "Finish...!\n"
     ]
    }
   ],
   "source": [
    "!python test.py \\\n",
    "--data-set 'TEST_Mayo_DCM' \\\n",
    "--model-name 'ED_CNN' \\\n",
    "--save_dir '/workspace/Abdomen_CT/scripts_study/Predictions/Test/png/[Previous]ED_CNN/'\\\n",
    "--resume '/workspace/Abdomen_CT/scripts_study/model/[Previous]ED_CNN/epoch_599_checkpoint.pth'"
   ]
  },
  {
   "cell_type": "code",
   "execution_count": 31,
   "metadata": {},
   "outputs": [
    {
     "name": "stdout",
     "output_type": "stream",
     "text": [
      "***********************************************\n",
      "Dataset Name:  TEST_Mayo_DCM\n",
      "---------- Model ----------\n",
      "Test Epoch:  750\n",
      "Resume From:  /workspace/Abdomen_CT/scripts_study/model/[Previous]WGAN_VGG/epoch_750_checkpoint.pth\n",
      "Output To:  /workspace/Abdomen_CT/scripts_study/Predictions/Test/png/[Previous]WGAN_VGG/\n",
      "Loading dataset ....\n",
      "TEST [Total]  number =  211\n",
      "Creating model: WGAN_VGG\n",
      "Number of Learnable Params: 27780386\n",
      "TEST:   0%|                                             | 0/211 [00:00<?, ?it/s]^C\n",
      "TEST:  91%|████████████████████████████████   | 193/211 [00:16<00:01, 11.94it/s]\n",
      "Traceback (most recent call last):\n",
      "  File \"/usr/local/lib/python3.8/dist-packages/PIL/ImageFile.py\", line 504, in _save\n",
      "    fh = fp.fileno()\n",
      "AttributeError: '_idat' object has no attribute 'fileno'\n",
      "\n",
      "During handling of the above exception, another exception occurred:\n",
      "\n",
      "Traceback (most recent call last):\n",
      "  File \"test.py\", line 149, in <module>\n",
      "    main(args)\n",
      "  File \"test.py\", line 116, in main\n",
      "    test_CNN_Based_Previous(model, data_loader, device, args.save_dir)\n",
      "  File \"/home/wjj910/.local/lib/python3.8/site-packages/torch/autograd/grad_mode.py\", line 28, in decorate_context\n",
      "    return func(*args, **kwargs)\n",
      "  File \"/workspace/Abdomen_CT/scripts_study/LowDose_HighDose_Code_Factory/scripts study/engine.py\", line 792, in test_CNN_Based_Previous\n",
      "    plt.imsave(save_dir+batch_data['path_n_20'][0].split('/')[7] +'/pred_n_100_'+batch_data['path_n_20'][0].split('/')[-1].replace('.IMA', '.png'),  pred_n_100.squeeze(),  cmap=\"gray\", vmin=-160, vmax=240)\n",
      "  File \"/usr/local/lib/python3.8/dist-packages/matplotlib/pyplot.py\", line 2144, in imsave\n",
      "    return matplotlib.image.imsave(fname, arr, **kwargs)\n",
      "  File \"/usr/local/lib/python3.8/dist-packages/matplotlib/image.py\", line 1675, in imsave\n",
      "    image.save(fname, **pil_kwargs)\n",
      "  File \"/usr/local/lib/python3.8/dist-packages/PIL/Image.py\", line 2240, in save\n",
      "    save_handler(self, fp, filename)\n",
      "  File \"/usr/local/lib/python3.8/dist-packages/PIL/PngImagePlugin.py\", line 1348, in _save\n",
      "    ImageFile._save(im, _idat(fp, chunk), [(\"zip\", (0, 0) + im.size, 0, rawmode)])\n",
      "  File \"/usr/local/lib/python3.8/dist-packages/PIL/ImageFile.py\", line 518, in _save\n",
      "    l, s, d = e.encode(bufsize)\n",
      "KeyboardInterrupt\n"
     ]
    }
   ],
   "source": [
    "!python test.py \\\n",
    "--data-set 'TEST_Mayo_DCM' \\\n",
    "--model-name 'WGAN_VGG' \\\n",
    "--save_dir '/workspace/Abdomen_CT/scripts_study/Predictions/Test/png/[Previous]WGAN_VGG/'\\\n",
    "--resume '/workspace/Abdomen_CT/scripts_study/model/[Previous]WGAN_VGG/epoch_750_checkpoint.pth'"
   ]
  },
  {
   "cell_type": "code",
   "execution_count": 10,
   "metadata": {},
   "outputs": [
    {
     "name": "stdout",
     "output_type": "stream",
     "text": [
      "***********************************************\n",
      "Dataset Name:  TEST_Mayo_DCM\n",
      "---------- Model ----------\n",
      "Test Epoch:  590\n",
      "Resume From:  /workspace/Abdomen_CT/scripts_study/model/[Previous]DU_GAN/epoch_590_checkpoint.pth\n",
      "Output To:  /workspace/Abdomen_CT/scripts_study/Predictions/Test/png/[Previous]DU_GAN/\n",
      "Loading dataset ....\n",
      "TEST [Total]  number =  211\n",
      "Creating model: DU_GAN\n",
      "Number of Learnable Params: 114613247\n",
      "TEST: 100%|███████████████████████████████████| 211/211 [00:20<00:00, 10.21it/s]\n",
      "\n",
      "\n",
      "Original === \n",
      "PSNR avg: 47.1224 \n",
      "SSIM avg: 0.9804 \n",
      "RMSE avg: 18.4390\n",
      "\n",
      "\n",
      "Predictions === \n",
      "PSNR avg: 49.9989 \n",
      "SSIM avg: 0.9898 \n",
      "RMSE avg: 13.1327\n",
      "***********************************************\n",
      "Finish...!\n"
     ]
    }
   ],
   "source": [
    "!python test.py \\\n",
    "--data-set 'TEST_Mayo_DCM' \\\n",
    "--model-name 'DU_GAN' \\\n",
    "--save_dir '/workspace/Abdomen_CT/scripts_study/Predictions/Test/png/[Previous]DU_GAN/'\\\n",
    "--resume '/workspace/Abdomen_CT/scripts_study/model/[Previous]DU_GAN/epoch_590_checkpoint.pth'"
   ]
  },
  {
   "cell_type": "code",
   "execution_count": 14,
   "metadata": {},
   "outputs": [
    {
     "name": "stdout",
     "output_type": "stream",
     "text": [
      "***********************************************\n",
      "Dataset Name:  TEST_Mayo_DCM\n",
      "---------- Model ----------\n",
      "Test Epoch:  100\n",
      "Resume From:  /workspace/Abdomen_CT/scripts_study/model/[Previous]MAP_NN/epoch_100_checkpoint.pth\n",
      "Output To:  /workspace/Abdomen_CT/scripts_study/Predictions/Test/png/[Previous]MAP_NN/\n",
      "Loading dataset ....\n",
      "TEST [Total]  number =  211\n",
      "Creating model: MAP_NN\n",
      "inintializing...!\n",
      "inintializing...!\n",
      "inintializing...!\n",
      "inintializing...!\n",
      "inintializing...!\n",
      "inintializing...!\n",
      "inintializing...!\n",
      "inintializing...!\n",
      "inintializing...!\n",
      "inintializing...!\n",
      "inintializing...!\n",
      "inintializing...!\n",
      "Number of Learnable Params: 17985537\n",
      "TEST: 100%|███████████████████████████████████| 211/211 [00:25<00:00,  8.39it/s]\n",
      "\n",
      "\n",
      "Original === \n",
      "PSNR avg: 47.1224 \n",
      "SSIM avg: 0.9804 \n",
      "RMSE avg: 18.4390\n",
      "\n",
      "\n",
      "Predictions === \n",
      "PSNR avg: 45.7500 \n",
      "SSIM avg: 0.9761 \n",
      "RMSE avg: 21.2775\n",
      "***********************************************\n",
      "Finish...!\n"
     ]
    }
   ],
   "source": [
    "!python test.py \\\n",
    "--data-set 'TEST_Mayo_DCM' \\\n",
    "--model-name 'MAP_NN' \\\n",
    "--save_dir '/workspace/Abdomen_CT/scripts_study/Predictions/Test/png/[Previous]MAP_NN/'\\\n",
    "--resume '/workspace/Abdomen_CT/scripts_study/model/[Previous]MAP_NN/epoch_100_checkpoint.pth'"
   ]
  }
 ],
 "metadata": {
  "kernelspec": {
   "display_name": "Python 3 (ipykernel)",
   "language": "python",
   "name": "python3"
  },
  "language_info": {
   "codemirror_mode": {
    "name": "ipython",
    "version": 3
   },
   "file_extension": ".py",
   "mimetype": "text/x-python",
   "name": "python",
   "nbconvert_exporter": "python",
   "pygments_lexer": "ipython3",
   "version": "3.8.10"
  },
  "orig_nbformat": 4
 },
 "nbformat": 4,
 "nbformat_minor": 2
}
