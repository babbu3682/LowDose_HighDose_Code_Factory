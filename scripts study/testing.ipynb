{
 "cells": [
  {
   "cell_type": "code",
   "execution_count": 1,
   "metadata": {},
   "outputs": [],
   "source": [
    "import os\n",
    "\n",
    "os.environ[\"CUDA_DEVICE_ORDER\"]=\"PCI_BUS_ID\"\n",
    "os.environ[\"CUDA_VISIBLE_DEVICES\"]=\"3\""
   ]
  },
  {
   "cell_type": "code",
   "execution_count": 2,
   "metadata": {},
   "outputs": [
    {
     "name": "stdout",
     "output_type": "stream",
     "text": [
      "/workspace/Abdomen_CT/scripts_study/LowDose_HighDose_Code_Factory/scripts study\n"
     ]
    }
   ],
   "source": [
    "!pwd"
   ]
  },
  {
   "cell_type": "code",
   "execution_count": 33,
   "metadata": {},
   "outputs": [
    {
     "name": "stdout",
     "output_type": "stream",
     "text": [
      "***********************************************\n",
      "Dataset Name:  TEST_Mayo_DCM\n",
      "---------- Model ----------\n",
      "Test Epoch:  599\n",
      "Resume From:  /workspace/Abdomen_CT/scripts_study/model/[Previous]ED_CNN/epoch_599_checkpoint.pth\n",
      "Output To:  /workspace/Abdomen_CT/scripts_study/Predictions/Test/png/[Previous]ED_CNN/\n",
      "Loading dataset ....\n",
      "TEST [Total]  number =  211\n",
      "Creating model: ED_CNN\n",
      "Number of Learnable Params: 80961\n",
      "TEST: 100%|███████████████████████████████████| 211/211 [00:44<00:00,  4.69it/s]\n",
      "\n",
      "\n",
      "Original === \n",
      "PSNR avg: 47.1224 \n",
      "SSIM avg: 0.9804 \n",
      "RMSE avg: 18.4390\n",
      "\n",
      "\n",
      "Predictions === \n",
      "PSNR avg: 50.8205 \n",
      "SSIM avg: 0.9915 \n",
      "RMSE avg: 11.9667\n",
      "Traceback (most recent call last):\n",
      "  File \"test.py\", line 146, in <module>\n",
      "    main(args)\n",
      "  File \"test.py\", line 106, in main\n",
      "    test_CNN_Based_Previous(model, data_loader, device, args.save_dir)\n",
      "  File \"/home/wjj910/.local/lib/python3.8/site-packages/torch/autograd/grad_mode.py\", line 28, in decorate_context\n",
      "    return func(*args, **kwargs)\n",
      "  File \"/workspace/Abdomen_CT/scripts_study/LowDose_HighDose_Code_Factory/scripts study/engine.py\", line 798, in test_CNN_Based_Previous\n",
      "    with (save_dir + \"/log.txt\").open(\"a\") as f:\n",
      "AttributeError: 'str' object has no attribute 'open'\n"
     ]
    }
   ],
   "source": [
    "!python test.py \\\n",
    "--data-set 'TEST_Mayo_DCM' \\\n",
    "--model-name 'ED_CNN' \\\n",
    "--save_dir '/workspace/Abdomen_CT/scripts_study/Predictions/Test/png/[Previous]ED_CNN/'\\\n",
    "--resume '/workspace/Abdomen_CT/scripts_study/model/[Previous]ED_CNN/epoch_599_checkpoint.pth'"
   ]
  },
  {
   "cell_type": "code",
   "execution_count": 32,
   "metadata": {},
   "outputs": [
    {
     "name": "stdout",
     "output_type": "stream",
     "text": [
      "***********************************************\n",
      "Dataset Name:  TEST_Mayo_DCM\n",
      "---------- Model ----------\n",
      "Test Epoch:  790\n",
      "Resume From:  /workspace/Abdomen_CT/scripts_study/model/[Previous]WGAN_VGG/epoch_790_checkpoint.pth\n",
      "Output To:  /workspace/Abdomen_CT/scripts_study/Predictions/Test/png/[Previous]WGAN_VGG/\n",
      "Loading dataset ....\n",
      "TEST [Total]  number =  211\n",
      "Creating model: WGAN_VGG\n",
      "Number of Learnable Params: 27780386\n",
      "TEST: 100%|███████████████████████████████████| 211/211 [00:48<00:00,  4.35it/s]\n",
      "\n",
      "\n",
      "Original === \n",
      "PSNR avg: 47.1224 \n",
      "SSIM avg: 0.9804 \n",
      "RMSE avg: 18.4390\n",
      "\n",
      "\n",
      "Predictions === \n",
      "PSNR avg: 37.3051 \n",
      "SSIM avg: 0.9567 \n",
      "RMSE avg: 55.9441\n",
      "Traceback (most recent call last):\n",
      "  File \"test.py\", line 146, in <module>\n",
      "    main(args)\n",
      "  File \"test.py\", line 115, in main\n",
      "    test_WGAN_VGG_Previous(model, data_loader, device, args.save_dir)\n",
      "  File \"/home/wjj910/.local/lib/python3.8/site-packages/torch/autograd/grad_mode.py\", line 28, in decorate_context\n",
      "    return func(*args, **kwargs)\n",
      "  File \"/workspace/Abdomen_CT/scripts_study/LowDose_HighDose_Code_Factory/scripts study/engine.py\", line 942, in test_WGAN_VGG_Previous\n",
      "    with (save_dir + \"/log.txt\").open(\"a\") as f:\n",
      "AttributeError: 'str' object has no attribute 'open'\n"
     ]
    }
   ],
   "source": [
    "!python test.py \\\n",
    "--data-set 'TEST_Mayo_DCM' \\\n",
    "--model-name 'WGAN_VGG' \\\n",
    "--save_dir '/workspace/Abdomen_CT/scripts_study/Predictions/Test/png/[Previous]WGAN_VGG/'\\\n",
    "--resume '/workspace/Abdomen_CT/scripts_study/model/[Previous]WGAN_VGG/epoch_790_checkpoint.pth'"
   ]
  },
  {
   "cell_type": "code",
   "execution_count": 21,
   "metadata": {},
   "outputs": [
    {
     "name": "stdout",
     "output_type": "stream",
     "text": [
      "<class 'str'>\n"
     ]
    }
   ],
   "source": [
    "x = 'a' + '.b' + '.c' + '.d' + '.IMA'\n",
    "print(type(x.split('.IMA')[:-1][0]))"
   ]
  }
 ],
 "metadata": {
  "kernelspec": {
   "display_name": "Python 3 (ipykernel)",
   "language": "python",
   "name": "python3"
  },
  "language_info": {
   "codemirror_mode": {
    "name": "ipython",
    "version": 3
   },
   "file_extension": ".py",
   "mimetype": "text/x-python",
   "name": "python",
   "nbconvert_exporter": "python",
   "pygments_lexer": "ipython3",
   "version": "3.8.10"
  },
  "orig_nbformat": 4
 },
 "nbformat": 4,
 "nbformat_minor": 2
}
