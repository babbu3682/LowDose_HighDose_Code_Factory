{
 "cells": [
  {
   "cell_type": "code",
   "execution_count": 1,
   "metadata": {},
   "outputs": [
    {
     "name": "stdout",
     "output_type": "stream",
     "text": [
      "Thu May 27 02:45:27 2021       \r\n",
      "+-----------------------------------------------------------------------------+\r\n",
      "| NVIDIA-SMI 460.73.01    Driver Version: 460.73.01    CUDA Version: 11.2     |\r\n",
      "|-------------------------------+----------------------+----------------------+\r\n",
      "| GPU  Name        Persistence-M| Bus-Id        Disp.A | Volatile Uncorr. ECC |\r\n",
      "| Fan  Temp  Perf  Pwr:Usage/Cap|         Memory-Usage | GPU-Util  Compute M. |\r\n",
      "|                               |                      |               MIG M. |\r\n",
      "|===============================+======================+======================|\r\n",
      "|   0  TITAN RTX           Off  | 00000000:02:00.0 Off |                  N/A |\r\n",
      "| 42%   64C    P2    82W / 280W |   1618MiB / 24220MiB |     34%      Default |\r\n",
      "|                               |                      |                  N/A |\r\n",
      "+-------------------------------+----------------------+----------------------+\r\n",
      "|   1  TITAN RTX           Off  | 00000000:03:00.0 Off |                  N/A |\r\n",
      "| 42%   65C    P2    73W / 280W |   3833MiB / 24220MiB |     25%      Default |\r\n",
      "|                               |                      |                  N/A |\r\n",
      "+-------------------------------+----------------------+----------------------+\r\n",
      "|   2  TITAN RTX           Off  | 00000000:82:00.0 Off |                  N/A |\r\n",
      "| 41%   31C    P8     7W / 280W |      3MiB / 24220MiB |      0%      Default |\r\n",
      "|                               |                      |                  N/A |\r\n",
      "+-------------------------------+----------------------+----------------------+\r\n",
      "|   3  TITAN RTX           Off  | 00000000:83:00.0 Off |                  N/A |\r\n",
      "| 41%   42C    P8    15W / 280W |   2675MiB / 24220MiB |      0%      Default |\r\n",
      "|                               |                      |                  N/A |\r\n",
      "+-------------------------------+----------------------+----------------------+\r\n",
      "                                                                               \r\n",
      "+-----------------------------------------------------------------------------+\r\n",
      "| Processes:                                                                  |\r\n",
      "|  GPU   GI   CI        PID   Type   Process name                  GPU Memory |\r\n",
      "|        ID   ID                                                   Usage      |\r\n",
      "|=============================================================================|\r\n",
      "+-----------------------------------------------------------------------------+\r\n"
     ]
    }
   ],
   "source": [
    "!nvidia-smi\n",
    "\n",
    "import os\n",
    "os.environ[\"CUDA_DEVICE_ORDER\"]=\"PCI_BUS_ID\"\n",
    "os.environ[\"CUDA_VISIBLE_DEVICES\"]=\"2\"\n",
    "\n",
    "import numpy as np\n",
    "import cv2\n",
    "import matplotlib.pyplot as plt\n",
    "import SimpleITK as sitk\n",
    "import cv2\n",
    "from tqdm import tqdm\n",
    "\n",
    "import sys\n",
    "sys.path.append(os.path.abspath('/workspace/sunggu'))\n",
    "sys.path.append(os.path.abspath('/workspace/sunggu/4.Dose_img2img'))\n",
    "sys.path.append(os.path.abspath('/workspace/sunggu/MONAI'))\n",
    "from sunggu_utils import check_value, take_list, plot_confusion_matrix, list_sort_nicely, find_dir, plot_3D"
   ]
  },
  {
   "cell_type": "markdown",
   "metadata": {},
   "source": [
    "# Setup imports"
   ]
  },
  {
   "cell_type": "code",
   "execution_count": 2,
   "metadata": {},
   "outputs": [
    {
     "name": "stdout",
     "output_type": "stream",
     "text": [
      "MONAI version: 0+unknown\n",
      "Python version: 3.6.9 (default, Oct  8 2020, 12:12:24)  [GCC 8.4.0]\n",
      "OS version: Linux (4.4.0-210-generic)\n",
      "Numpy version: 1.19.5\n",
      "Pytorch version: 1.6.0\n",
      "MONAI flags: HAS_EXT = False, USE_COMPILED = False\n",
      "\n",
      "Optional dependencies:\n",
      "Pytorch Ignite version: NOT INSTALLED or UNKNOWN VERSION.\n",
      "Nibabel version: 3.2.1\n",
      "scikit-image version: 0.17.2\n",
      "Pillow version: 8.1.0\n",
      "Tensorboard version: 2.4.1\n",
      "gdown version: NOT INSTALLED or UNKNOWN VERSION.\n",
      "TorchVision version: 0.7.0\n",
      "ITK version: NOT INSTALLED or UNKNOWN VERSION.\n",
      "tqdm version: 4.56.0\n",
      "\n",
      "For details about installing the optional dependencies, please visit:\n",
      "    https://docs.monai.io/en/latest/installation.html#installing-the-recommended-dependencies\n",
      "\n"
     ]
    }
   ],
   "source": [
    "import glob\n",
    "import torch\n",
    "import os\n",
    "import shutil\n",
    "import tempfile\n",
    "import matplotlib.pyplot as plt\n",
    "\n",
    "import monai\n",
    "from monai.utils import first, set_determinism\n",
    "from monai.apps import download_and_extract\n",
    "from monai.config import print_config\n",
    "from monai.data import CacheDataset, DataLoader, Dataset\n",
    "from monai.inferers import sliding_window_inference\n",
    "from monai.losses import DiceLoss, GeneralizedDiceLoss, FocalLoss, TverskyLoss, NoiseRobustDiceLoss\n",
    "from monai.metrics import compute_meandice, DiceMetric\n",
    "from monai.transforms import (\n",
    "    AddChanneld,\n",
    "    Compose,\n",
    "    CropForegroundd,\n",
    "    LoadNiftid,\n",
    "    Lambdad,\n",
    "    Orientationd,\n",
    "    RandCropByPosNegLabeld,\n",
    "    ScaleIntensityRanged,\n",
    "    Spacingd,\n",
    "    ToTensord,\n",
    "    RandScaleIntensityd,\n",
    "    RandGaussianNoised,\n",
    "    RandFlipd,\n",
    "    RandZoomd,\n",
    "    RandGaussianNoised,\n",
    "    RandGaussianSmoothd,\n",
    "    RandShiftIntensityd,\n",
    "    SpatialPadd,\n",
    "    RandAffined,\n",
    "    CastToTyped,\n",
    "    DeleteItemsd,\n",
    "    FgBgToIndicesd,\n",
    "    Rand3DElasticd,\n",
    "    RandZoomd,\n",
    "    Rand2DElasticd,\n",
    "    RandWeightedCropd,\n",
    "    AsDiscrete,\n",
    ")\n",
    "\n",
    "print_config()"
   ]
  },
  {
   "cell_type": "code",
   "execution_count": 3,
   "metadata": {},
   "outputs": [],
   "source": [
    "import random\n",
    "\n",
    "random_seed = 0\n",
    "torch.manual_seed(random_seed)\n",
    "torch.cuda.manual_seed(random_seed)\n",
    "torch.cuda.manual_seed_all(random_seed) # if use multi-GPU\n",
    "torch.backends.cudnn.deterministic = True\n",
    "torch.backends.cudnn.benchmark = False\n",
    "np.random.seed(random_seed)\n",
    "random.seed(random_seed)\n",
    "\n",
    "set_determinism(seed=0)"
   ]
  },
  {
   "cell_type": "markdown",
   "metadata": {},
   "source": [
    "## 파일 이름 바꾸기 (환자명 빼기)"
   ]
  },
  {
   "cell_type": "code",
   "execution_count": null,
   "metadata": {},
   "outputs": [],
   "source": [
    "import os\n",
    "for i in total_list:\n",
    "    os.makedirs(os.path.dirname(i.replace(\"CHO_KYE_HWA_M80\", \"PATIENT_A\")), exist_ok=True)\n",
    "    shutil.copy(i, i.replace(\"CHO_KYE_HWA_M80\", \"PATIENT_A\"))"
   ]
  },
  {
   "cell_type": "markdown",
   "metadata": {},
   "source": [
    "# 3mm sinogram 폴더 정렬 및 이동"
   ]
  },
  {
   "cell_type": "code",
   "execution_count": 4,
   "metadata": {},
   "outputs": [],
   "source": [
    "# total_list = list_sort_nicely(glob.glob(\"/workspace/sunggu/4.Dose_img2img/goto_sinogram/brain_3mm/*/*/Brain_Axial_B40f*/*\"))\n",
    "name_list = list_sort_nicely(glob.glob(\"/workspace/sunggu/4.Dose_img2img/goto_sinogram/brain_3mm/*\"))"
   ]
  },
  {
   "cell_type": "code",
   "execution_count": 5,
   "metadata": {},
   "outputs": [],
   "source": [
    "name = []\n",
    "for i in name_list:\n",
    "    name.append(i.split('/')[-1])"
   ]
  },
  {
   "cell_type": "code",
   "execution_count": 6,
   "metadata": {
    "code_folding": [],
    "scrolled": false
   },
   "outputs": [],
   "source": [
    "import shutil\n",
    "import os \n",
    "\n",
    "for n in name:\n",
    "    order_list = list_sort_nicely(glob.glob(\"/workspace/sunggu/4.Dose_img2img/goto_sinogram/brain_3mm/\"+n+\"/*\"))\n",
    "    \n",
    "    noise_X = list_sort_nicely(glob.glob(order_list[0] + \"/Brain_Axial_B40f*/*\"))\n",
    "    for file in noise_X:\n",
    "#         print(file.replace(\"/\"+n+\"/\", \"/\"+n+\"/X/\").replace('/goto_sinogram/brain_3mm/', '/dataset/[sinogram]Brain_3mm_DCM/'))\n",
    "        move_to = file.replace(\"/\"+n+\"/\", \"/\"+n+\"/X/\").replace('/goto_sinogram/brain_3mm/', '/dataset/[sinogram]Brain_3mm_DCM/')\n",
    "        os.makedirs(os.path.dirname(move_to), mode=0o777, exist_ok=True)\n",
    "        shutil.copy(file, move_to)\n",
    "    \n",
    "    noise_20 = list_sort_nicely(glob.glob(order_list[1] + \"/Brain_Axial_B40f*/*\"))\n",
    "    for file in noise_20:\n",
    "#         print(file.replace(\"/\"+n+\"/\", \"/\"+n+\"/20/\").replace('/goto_sinogram/brain_3mm/', '/dataset/[sinogram]Brain_3mm_DCM/'))\n",
    "        move_to = file.replace(\"/\"+n+\"/\", \"/\"+n+\"/20/\").replace('/goto_sinogram/brain_3mm/', '/dataset/[sinogram]Brain_3mm_DCM/')\n",
    "        os.makedirs(os.path.dirname(move_to), mode=0o777, exist_ok=True)\n",
    "        shutil.copy(file, move_to)\n",
    "    \n",
    "    noise_40 = list_sort_nicely(glob.glob(order_list[2] + \"/Brain_Axial_B40f*/*\"))\n",
    "    for file in noise_40:\n",
    "#         print(file.replace(\"/\"+n+\"/\", \"/\"+n+\"/40/\").replace('/goto_sinogram/brain_3mm/', '/dataset/[sinogram]Brain_3mm_DCM/'))\n",
    "        move_to = file.replace(\"/\"+n+\"/\", \"/\"+n+\"/40/\").replace('/goto_sinogram/brain_3mm/', '/dataset/[sinogram]Brain_3mm_DCM/')\n",
    "        os.makedirs(os.path.dirname(move_to), mode=0o777, exist_ok=True)\n",
    "        shutil.copy(file, move_to)\n",
    "    \n",
    "    noise_60 = list_sort_nicely(glob.glob(order_list[3] + \"/Brain_Axial_B40f*/*\"))\n",
    "    for file in noise_60:\n",
    "#         print(file.replace(\"/\"+n+\"/\", \"/\"+n+\"/60/\").replace('/goto_sinogram/brain_3mm/', '/dataset/[sinogram]Brain_3mm_DCM/'))        \n",
    "        move_to = file.replace(\"/\"+n+\"/\", \"/\"+n+\"/60/\").replace('/goto_sinogram/brain_3mm/', '/dataset/[sinogram]Brain_3mm_DCM/')\n",
    "        os.makedirs(os.path.dirname(move_to), mode=0o777, exist_ok=True)\n",
    "        shutil.copy(file, move_to)        \n",
    "    \n",
    "    noise_80 = list_sort_nicely(glob.glob(order_list[4] + \"/Brain_Axial_B40f*/*\"))\n",
    "    for file in noise_80:\n",
    "#         print(file.replace(\"/\"+n+\"/\", \"/\"+n+\"/80/\").replace('/goto_sinogram/brain_3mm/', '/dataset/[sinogram]Brain_3mm_DCM/'))\n",
    "        move_to = file.replace(\"/\"+n+\"/\", \"/\"+n+\"/80/\").replace('/goto_sinogram/brain_3mm/', '/dataset/[sinogram]Brain_3mm_DCM/')\n",
    "        os.makedirs(os.path.dirname(move_to), mode=0o777, exist_ok=True)\n",
    "        shutil.copy(file, move_to)   "
   ]
  },
  {
   "cell_type": "code",
   "execution_count": null,
   "metadata": {},
   "outputs": [],
   "source": []
  },
  {
   "cell_type": "markdown",
   "metadata": {},
   "source": [
    "# 5mm sinogram 폴더 정렬 및 이동"
   ]
  },
  {
   "cell_type": "code",
   "execution_count": 20,
   "metadata": {},
   "outputs": [],
   "source": [
    "total_list = list_sort_nicely(glob.glob(\"/workspace/sunggu/4.Dose_img2img/goto_sinogram/brain_5mm/*/*/*/Brain_Axial_B40f*/*\"))"
   ]
  },
  {
   "cell_type": "code",
   "execution_count": 22,
   "metadata": {},
   "outputs": [],
   "source": [
    "for file in total_list:\n",
    "    move_to = file.replace('/goto_sinogram/brain_5mm/', '/dataset/[sinogram]Brain_5mm_DCM/')\n",
    "    os.makedirs(os.path.dirname(move_to), mode=0o777, exist_ok=True)\n",
    "    \n",
    "    shutil.copy(file, move_to)   "
   ]
  },
  {
   "cell_type": "code",
   "execution_count": null,
   "metadata": {},
   "outputs": [],
   "source": []
  },
  {
   "cell_type": "code",
   "execution_count": null,
   "metadata": {},
   "outputs": [],
   "source": []
  }
 ],
 "metadata": {
  "kernelspec": {
   "display_name": "Python 3",
   "language": "python",
   "name": "python3"
  },
  "language_info": {
   "codemirror_mode": {
    "name": "ipython",
    "version": 3
   },
   "file_extension": ".py",
   "mimetype": "text/x-python",
   "name": "python",
   "nbconvert_exporter": "python",
   "pygments_lexer": "ipython3",
   "version": "3.6.9"
  },
  "toc": {
   "base_numbering": 1,
   "nav_menu": {},
   "number_sections": true,
   "sideBar": true,
   "skip_h1_title": false,
   "title_cell": "Table of Contents",
   "title_sidebar": "Contents",
   "toc_cell": false,
   "toc_position": {
    "height": "calc(100% - 180px)",
    "left": "10px",
    "top": "150px",
    "width": "302.045px"
   },
   "toc_section_display": true,
   "toc_window_display": true
  },
  "varInspector": {
   "cols": {
    "lenName": 16,
    "lenType": 16,
    "lenVar": 40
   },
   "kernels_config": {
    "python": {
     "delete_cmd_postfix": "",
     "delete_cmd_prefix": "del ",
     "library": "var_list.py",
     "varRefreshCmd": "print(var_dic_list())"
    },
    "r": {
     "delete_cmd_postfix": ") ",
     "delete_cmd_prefix": "rm(",
     "library": "var_list.r",
     "varRefreshCmd": "cat(var_dic_list()) "
    }
   },
   "types_to_exclude": [
    "module",
    "function",
    "builtin_function_or_method",
    "instance",
    "_Feature"
   ],
   "window_display": false
  }
 },
 "nbformat": 4,
 "nbformat_minor": 4
}
