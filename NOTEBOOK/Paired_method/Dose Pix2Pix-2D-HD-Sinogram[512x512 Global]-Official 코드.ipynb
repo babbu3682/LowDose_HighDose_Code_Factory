{
 "cells": [
  {
   "cell_type": "code",
   "execution_count": null,
   "metadata": {},
   "outputs": [],
   "source": [
    "# !pip install pretrainedmodels==0.7.4\n",
    "# !pip install efficientnet-pytorch==0.6.3\n",
    "# !pip install timm==0.3.2"
   ]
  },
  {
   "cell_type": "code",
   "execution_count": 1,
   "metadata": {},
   "outputs": [
    {
     "name": "stdout",
     "output_type": "stream",
     "text": [
      "Tue Mar 30 08:21:06 2021       \n",
      "+-----------------------------------------------------------------------------+\n",
      "| NVIDIA-SMI 460.32.03    Driver Version: 460.32.03    CUDA Version: 11.2     |\n",
      "|-------------------------------+----------------------+----------------------+\n",
      "| GPU  Name        Persistence-M| Bus-Id        Disp.A | Volatile Uncorr. ECC |\n",
      "| Fan  Temp  Perf  Pwr:Usage/Cap|         Memory-Usage | GPU-Util  Compute M. |\n",
      "|                               |                      |               MIG M. |\n",
      "|===============================+======================+======================|\n",
      "|   0  TITAN RTX           On   | 00000000:1B:00.0 Off |                  N/A |\n",
      "| 41%   31C    P8    16W / 280W |      1MiB / 24220MiB |      0%      Default |\n",
      "|                               |                      |                  N/A |\n",
      "+-------------------------------+----------------------+----------------------+\n",
      "|   1  TITAN RTX           On   | 00000000:1C:00.0 Off |                  N/A |\n",
      "| 41%   27C    P8     3W / 280W |      1MiB / 24220MiB |      0%      Default |\n",
      "|                               |                      |                  N/A |\n",
      "+-------------------------------+----------------------+----------------------+\n",
      "|   2  TITAN RTX           On   | 00000000:1D:00.0 Off |                  N/A |\n",
      "| 41%   32C    P8     7W / 280W |   9019MiB / 24220MiB |      0%      Default |\n",
      "|                               |                      |                  N/A |\n",
      "+-------------------------------+----------------------+----------------------+\n",
      "|   3  TITAN RTX           On   | 00000000:1E:00.0 Off |                  N/A |\n",
      "| 41%   31C    P8     5W / 280W |   8982MiB / 24220MiB |      0%      Default |\n",
      "|                               |                      |                  N/A |\n",
      "+-------------------------------+----------------------+----------------------+\n",
      "|   4  TITAN RTX           On   | 00000000:3D:00.0 Off |                  N/A |\n",
      "| 79%   85C    P2   127W / 280W |  19772MiB / 24220MiB |     97%      Default |\n",
      "|                               |                      |                  N/A |\n",
      "+-------------------------------+----------------------+----------------------+\n",
      "|   5  TITAN RTX           On   | 00000000:3F:00.0 Off |                  N/A |\n",
      "|100%   88C    P2   132W / 280W |  18078MiB / 24220MiB |     98%      Default |\n",
      "|                               |                      |                  N/A |\n",
      "+-------------------------------+----------------------+----------------------+\n",
      "|   6  TITAN RTX           On   | 00000000:40:00.0 Off |                  N/A |\n",
      "| 97%   87C    P2   122W / 280W |  18068MiB / 24220MiB |     97%      Default |\n",
      "|                               |                      |                  N/A |\n",
      "+-------------------------------+----------------------+----------------------+\n",
      "|   7  TITAN RTX           On   | 00000000:41:00.0 Off |                  N/A |\n",
      "|100%   87C    P2   152W / 280W |  18076MiB / 24220MiB |     97%      Default |\n",
      "|                               |                      |                  N/A |\n",
      "+-------------------------------+----------------------+----------------------+\n",
      "                                                                               \n",
      "+-----------------------------------------------------------------------------+\n",
      "| Processes:                                                                  |\n",
      "|  GPU   GI   CI        PID   Type   Process name                  GPU Memory |\n",
      "|        ID   ID                                                   Usage      |\n",
      "|=============================================================================|\n",
      "+-----------------------------------------------------------------------------+\n"
     ]
    }
   ],
   "source": [
    "!nvidia-smi\n",
    "\n",
    "import os\n",
    "os.environ[\"CUDA_DEVICE_ORDER\"]=\"PCI_BUS_ID\"\n",
    "os.environ[\"CUDA_VISIBLE_DEVICES\"]=\"0, 1\"\n",
    "\n",
    "import torch\n",
    "import numpy as np\n",
    "import cv2\n",
    "import matplotlib.pyplot as plt\n",
    "import SimpleITK as sitk\n",
    "import cv2\n",
    "from tqdm import tqdm\n",
    "\n",
    "import sys\n",
    "sys.path.append(os.path.abspath('/workspace/sunggu'))\n",
    "sys.path.append(os.path.abspath('/workspace/sunggu/MONAI'))\n",
    "sys.path.append(os.path.abspath('/workspace/sunggu/4.Dose_img2img'))\n",
    "sys.path.append(os.path.abspath('/workspace/sunggu/4.Dose_img2img/pix2pixHD-master'))\n",
    "\n",
    "from sunggu_utils import check_value, take_list, plot_confusion_matrix, list_sort_nicely, find_dir, plot_3D"
   ]
  },
  {
   "cell_type": "markdown",
   "metadata": {},
   "source": [
    "# Train"
   ]
  },
  {
   "cell_type": "code",
   "execution_count": null,
   "metadata": {
    "scrolled": true
   },
   "outputs": [],
   "source": [
    "cd /workspace/sunggu/4.Dose_img2img/pix2pixHD-master"
   ]
  },
  {
   "cell_type": "code",
   "execution_count": null,
   "metadata": {},
   "outputs": [],
   "source": [
    "--continue_train"
   ]
  },
  {
   "cell_type": "code",
   "execution_count": null,
   "metadata": {
    "scrolled": true
   },
   "outputs": [],
   "source": [
    "!python train.py --name sunggu --gpu_ids 0,1 --label_nc 0 --loadSize 512 --fineSize 512 --input_nc 1 --output_nc 1\\\n",
    "--no_instance --niter_decay 300 --niter 300 --batchSize 16 --phase train --checkpoints_dir /workspace/sunggu/4.Dose_img2img/pix2pixHD-master/runs "
   ]
  },
  {
   "cell_type": "code",
   "execution_count": null,
   "metadata": {},
   "outputs": [],
   "source": []
  },
  {
   "cell_type": "markdown",
   "metadata": {},
   "source": [
    "# Test"
   ]
  },
  {
   "cell_type": "code",
   "execution_count": null,
   "metadata": {},
   "outputs": [],
   "source": [
    "cd /workspace/sunggu/4.Dose_img2img/pix2pixHD-master"
   ]
  },
  {
   "cell_type": "code",
   "execution_count": null,
   "metadata": {},
   "outputs": [],
   "source": [
    "!python test.py --name sunggu --gpu_ids 0,1 --label_nc 0 --loadSize 512 --fineSize 512 --input_nc 1 --output_nc 1 \\\n",
    "--no_instance --phase test --checkpoints_dir /workspace/sunggu/4.Dose_img2img/pix2pixHD-master/runs --results_dir /workspace/sunggu/4.Dose_img2img/pix2pixHD-master/runs/result"
   ]
  },
  {
   "cell_type": "code",
   "execution_count": 2,
   "metadata": {},
   "outputs": [],
   "source": [
    "def diagnose_network(net, name='network'):\n",
    "    \"\"\"Calculate and print the mean of average absolute(gradients)\n",
    "    Parameters:\n",
    "        net (torch network) -- Torch network\n",
    "        name (str) -- the name of the network\n",
    "    \"\"\"\n",
    "    mean = 0.0\n",
    "    count = 0\n",
    "    for param in net.parameters():\n",
    "        if param.grad is not None:\n",
    "            mean += torch.mean(torch.abs(param.grad.data))\n",
    "            count += 1\n",
    "    if count > 0:\n",
    "        mean = mean / count\n",
    "    print(name)\n",
    "    print(mean)"
   ]
  },
  {
   "cell_type": "code",
   "execution_count": 4,
   "metadata": {},
   "outputs": [],
   "source": [
    "x = torch.rand(10, 10, dtype=torch.complex64)\n",
    "fft2 = torch.fft.fft2(x)"
   ]
  },
  {
   "cell_type": "code",
   "execution_count": 6,
   "metadata": {},
   "outputs": [
    {
     "data": {
      "text/plain": [
       "torch.Size([10, 10])"
      ]
     },
     "execution_count": 6,
     "metadata": {},
     "output_type": "execute_result"
    }
   ],
   "source": [
    "fft2.shape"
   ]
  },
  {
   "cell_type": "code",
   "execution_count": 7,
   "metadata": {},
   "outputs": [
    {
     "data": {
      "text/plain": [
       "tensor([[0.4163+0.5822j, 0.6259+0.9470j, 0.4826+0.4858j, 0.0152+0.3946j,\n",
       "         0.9043+0.2312j, 0.9522+0.2640j, 0.4039+0.4580j, 0.3752+0.3706j,\n",
       "         0.4233+0.7891j, 0.4648+0.5390j],\n",
       "        [0.8926+0.2537j, 0.9035+0.4851j, 0.4822+0.8309j, 0.9996+0.4227j,\n",
       "         0.3947+0.5693j, 0.5234+0.4980j, 0.6035+0.1043j, 0.6450+0.1627j,\n",
       "         0.0773+0.1069j, 0.3812+0.6207j],\n",
       "        [0.6632+0.6174j, 0.3653+0.2913j, 0.4233+0.3574j, 0.7202+0.8177j,\n",
       "         0.4895+0.1069j, 0.1272+0.0513j, 0.5123+0.2375j, 0.0678+0.2816j,\n",
       "         0.1237+0.9714j, 0.7037+0.2694j],\n",
       "        [0.3554+0.6205j, 0.9797+0.8925j, 0.2556+0.9361j, 0.9298+0.2993j,\n",
       "         0.1719+0.4424j, 0.6964+0.5937j, 0.3072+0.8742j, 0.6552+0.0466j,\n",
       "         0.1863+0.1210j, 0.9166+0.3598j],\n",
       "        [0.1408+0.0401j, 0.7663+0.9466j, 0.8429+0.2753j, 0.5990+0.4808j,\n",
       "         0.2602+0.2059j, 0.0450+0.2728j, 0.9249+0.3329j, 0.3924+0.3657j,\n",
       "         0.4364+0.6914j, 0.4198+0.6828j],\n",
       "        [0.9582+0.0750j, 0.0800+0.5483j, 0.6802+0.0511j, 0.7210+0.7366j,\n",
       "         0.1587+0.1596j, 0.6484+0.9431j, 0.3890+0.4298j, 0.1707+0.1912j,\n",
       "         0.2529+0.4951j, 0.8315+0.9994j],\n",
       "        [0.1053+0.8278j, 0.5481+0.1631j, 0.3485+0.4635j, 0.5339+0.9825j,\n",
       "         0.8554+0.4812j, 0.5713+0.4228j, 0.0923+0.5831j, 0.7877+0.6578j,\n",
       "         0.9803+0.3559j, 0.2136+0.8633j],\n",
       "        [0.2192+0.9132j, 0.2994+0.9246j, 0.2308+0.7065j, 0.1318+0.9465j,\n",
       "         0.8056+0.5864j, 0.5317+0.6951j, 0.9211+0.7067j, 0.9673+0.9954j,\n",
       "         0.7184+0.3795j, 0.2979+0.7960j],\n",
       "        [0.3008+0.7129j, 0.9884+0.7462j, 0.1542+0.7268j, 0.3861+0.5406j,\n",
       "         0.5745+0.5041j, 0.5745+0.4933j, 0.4592+0.2055j, 0.4346+0.9339j,\n",
       "         0.1039+0.0997j, 0.6306+0.2089j],\n",
       "        [0.0626+0.1519j, 0.5618+0.4753j, 0.0880+0.6852j, 0.0199+0.5915j,\n",
       "         0.1137+0.5329j, 0.0535+0.9667j, 0.7999+0.5481j, 0.9882+0.3561j,\n",
       "         0.9292+0.1590j, 0.8844+0.4615j]])"
      ]
     },
     "execution_count": 7,
     "metadata": {},
     "output_type": "execute_result"
    }
   ],
   "source": [
    "x"
   ]
  },
  {
   "cell_type": "code",
   "execution_count": null,
   "metadata": {},
   "outputs": [],
   "source": [
    "!pip install torch==1.8.0"
   ]
  }
 ],
 "metadata": {
  "kernelspec": {
   "display_name": "Python 3",
   "language": "python",
   "name": "python3"
  },
  "language_info": {
   "codemirror_mode": {
    "name": "ipython",
    "version": 3
   },
   "file_extension": ".py",
   "mimetype": "text/x-python",
   "name": "python",
   "nbconvert_exporter": "python",
   "pygments_lexer": "ipython3",
   "version": "3.6.9"
  },
  "toc": {
   "base_numbering": 1,
   "nav_menu": {},
   "number_sections": true,
   "sideBar": true,
   "skip_h1_title": false,
   "title_cell": "Table of Contents",
   "title_sidebar": "Contents",
   "toc_cell": false,
   "toc_position": {
    "height": "calc(100% - 180px)",
    "left": "10px",
    "top": "150px",
    "width": "223.026px"
   },
   "toc_section_display": true,
   "toc_window_display": true
  },
  "varInspector": {
   "cols": {
    "lenName": 16,
    "lenType": 16,
    "lenVar": 40
   },
   "kernels_config": {
    "python": {
     "delete_cmd_postfix": "",
     "delete_cmd_prefix": "del ",
     "library": "var_list.py",
     "varRefreshCmd": "print(var_dic_list())"
    },
    "r": {
     "delete_cmd_postfix": ") ",
     "delete_cmd_prefix": "rm(",
     "library": "var_list.r",
     "varRefreshCmd": "cat(var_dic_list()) "
    }
   },
   "types_to_exclude": [
    "module",
    "function",
    "builtin_function_or_method",
    "instance",
    "_Feature"
   ],
   "window_display": false
  }
 },
 "nbformat": 4,
 "nbformat_minor": 4
}
